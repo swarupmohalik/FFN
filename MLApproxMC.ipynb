{
  "nbformat": 4,
  "nbformat_minor": 0,
  "metadata": {
    "colab": {
      "provenance": [],
      "include_colab_link": true
    },
    "kernelspec": {
      "name": "python3",
      "display_name": "Python 3"
    },
    "language_info": {
      "name": "python"
    }
  },
  "cells": [
    {
      "cell_type": "markdown",
      "metadata": {
        "id": "view-in-github",
        "colab_type": "text"
      },
      "source": [
        "<a href=\"https://colab.research.google.com/github/swarupmohalik/FFN/blob/main/MLApproxMC.ipynb\" target=\"_parent\"><img src=\"https://colab.research.google.com/assets/colab-badge.svg\" alt=\"Open In Colab\"/></a>"
      ]
    },
    {
      "cell_type": "markdown",
      "source": [
        "**Resources**\n",
        "\n",
        "https://www.youtube.com/watch?v=3L1fRBLssAk\n",
        "\n",
        "Convering keras to onnx"
      ],
      "metadata": {
        "id": "mttjNdL1yJ7I"
      }
    },
    {
      "cell_type": "markdown",
      "source": [
        "**Keras experiment**\n",
        "\n",
        "Build a simple model, set weights and extract weights using Keras API's"
      ],
      "metadata": {
        "id": "pszNdF0x_zQx"
      }
    },
    {
      "cell_type": "code",
      "source": [
        "import tensorflow as tf\n",
        "from tensorflow import keras\n",
        "import numpy as np"
      ],
      "metadata": {
        "id": "UQHQlnEt_Nif"
      },
      "execution_count": 1,
      "outputs": []
    },
    {
      "cell_type": "code",
      "source": [
        "\n",
        "\n",
        "input_dim = 2\n",
        "# Define the model\n",
        "model = keras.Sequential([\n",
        "    keras.layers.Dense(units=3, activation='relu', input_shape=(input_dim,)),\n",
        "    keras.layers.Dense(units=1, activation='linear')\n",
        "])\n",
        "\n",
        "# Compile the model\n",
        "model.compile(optimizer='adam', loss='binary_crossentropy', metrics=['accuracy'])"
      ],
      "metadata": {
        "id": "8eXIt3ZGdw1R"
      },
      "execution_count": 2,
      "outputs": []
    },
    {
      "cell_type": "code",
      "source": [
        "model.summary()\n",
        "model.layers[0].get_weights()"
      ],
      "metadata": {
        "colab": {
          "base_uri": "https://localhost:8080/"
        },
        "id": "iOzR15J4eF8D",
        "outputId": "8bb97c22-6ee1-4257-d1a7-a0270af36c47"
      },
      "execution_count": 3,
      "outputs": [
        {
          "output_type": "stream",
          "name": "stdout",
          "text": [
            "Model: \"sequential\"\n",
            "_________________________________________________________________\n",
            " Layer (type)                Output Shape              Param #   \n",
            "=================================================================\n",
            " dense (Dense)               (None, 3)                 9         \n",
            "                                                                 \n",
            " dense_1 (Dense)             (None, 1)                 4         \n",
            "                                                                 \n",
            "=================================================================\n",
            "Total params: 13\n",
            "Trainable params: 13\n",
            "Non-trainable params: 0\n",
            "_________________________________________________________________\n"
          ]
        },
        {
          "output_type": "execute_result",
          "data": {
            "text/plain": [
              "[array([[-0.32896727, -0.04953778,  0.8804946 ],\n",
              "        [ 0.49672043, -0.76843566, -0.18752927]], dtype=float32),\n",
              " array([0., 0., 0.], dtype=float32)]"
            ]
          },
          "metadata": {},
          "execution_count": 3
        }
      ]
    },
    {
      "cell_type": "code",
      "source": [
        "\n",
        "l0_weights = np.array([[1,1,1], [2,2,2]])\n",
        "l0_biases = np.array([10,10,10])\n",
        "model.layers[0].set_weights([l0_weights, l0_biases])\n",
        "\n",
        "l1_weights = np.array([[3],[3],[3]])\n",
        "l1_biases = np.array([-1])\n",
        "model.layers[1].set_weights([l1_weights, l1_biases])"
      ],
      "metadata": {
        "id": "B-JGvfbCnTsq"
      },
      "execution_count": 4,
      "outputs": []
    },
    {
      "cell_type": "code",
      "source": [
        "model.layers[0].get_weights()"
      ],
      "metadata": {
        "colab": {
          "base_uri": "https://localhost:8080/"
        },
        "id": "WxTIuNPkrUgh",
        "outputId": "2303a5f9-db70-499a-876a-eee98019e385"
      },
      "execution_count": 5,
      "outputs": [
        {
          "output_type": "execute_result",
          "data": {
            "text/plain": [
              "[array([[1., 1., 1.],\n",
              "        [2., 2., 2.]], dtype=float32),\n",
              " array([10., 10., 10.], dtype=float32)]"
            ]
          },
          "metadata": {},
          "execution_count": 5
        }
      ]
    },
    {
      "cell_type": "code",
      "source": [
        "model.layers[1].get_weights()"
      ],
      "metadata": {
        "colab": {
          "base_uri": "https://localhost:8080/"
        },
        "id": "xZXBIHmBrUqa",
        "outputId": "68557306-c94c-49a9-b672-e78ab591f046"
      },
      "execution_count": 6,
      "outputs": [
        {
          "output_type": "execute_result",
          "data": {
            "text/plain": [
              "[array([[3.],\n",
              "        [3.],\n",
              "        [3.]], dtype=float32),\n",
              " array([-1.], dtype=float32)]"
            ]
          },
          "metadata": {},
          "execution_count": 6
        }
      ]
    },
    {
      "cell_type": "code",
      "source": [
        "model.predict([[3,4]])"
      ],
      "metadata": {
        "colab": {
          "base_uri": "https://localhost:8080/"
        },
        "id": "MmkNS58Kp6bo",
        "outputId": "f4a6d41b-354f-47cf-bbeb-9c859e0b0ba7"
      },
      "execution_count": 7,
      "outputs": [
        {
          "output_type": "stream",
          "name": "stdout",
          "text": [
            "1/1 [==============================] - 0s 192ms/step\n"
          ]
        },
        {
          "output_type": "execute_result",
          "data": {
            "text/plain": [
              "array([[188.]], dtype=float32)"
            ]
          },
          "metadata": {},
          "execution_count": 7
        }
      ]
    },
    {
      "cell_type": "code",
      "source": [
        "# Get the list of layers in the model\n",
        "layers = model.layers\n",
        "\n",
        "# Loop through the layers and extract details\n",
        "for layer in layers:\n",
        "    layer_config = layer.get_config()\n",
        "    layer_type = layer_config['name']\n",
        "    units = layer_config['units']\n",
        "    activation = layer_config['activation']\n",
        "\n",
        "    print(f\"Layer Type: {layer_type}\")\n",
        "    print(f\"Number of Units: {units}\")\n",
        "    print(f\"Activation Function: {activation}\")\n",
        "    print(\"=\" * 40)"
      ],
      "metadata": {
        "colab": {
          "base_uri": "https://localhost:8080/"
        },
        "id": "66CEQh15pB7q",
        "outputId": "94e04e98-a31a-4f86-cdb1-83ba5f72377e"
      },
      "execution_count": 8,
      "outputs": [
        {
          "output_type": "stream",
          "name": "stdout",
          "text": [
            "Layer Type: dense\n",
            "Number of Units: 3\n",
            "Activation Function: relu\n",
            "========================================\n",
            "Layer Type: dense_1\n",
            "Number of Units: 1\n",
            "Activation Function: linear\n",
            "========================================\n"
          ]
        }
      ]
    },
    {
      "cell_type": "markdown",
      "source": [
        "**Onnx model experiments**\n",
        "\n",
        "Convert Keras model to onnx model, save\n",
        "Load onnx model and get the details from the model.graph structure"
      ],
      "metadata": {
        "id": "d9Dx1UitACiG"
      }
    },
    {
      "cell_type": "code",
      "source": [
        "!pip install tf2onnx onnx onnxruntime"
      ],
      "metadata": {
        "id": "7VxP8HGGpy_2",
        "colab": {
          "base_uri": "https://localhost:8080/",
          "height": 722
        },
        "outputId": "17326560-d7e8-4037-d447-7a599a4cdaa7"
      },
      "execution_count": 9,
      "outputs": [
        {
          "output_type": "stream",
          "name": "stdout",
          "text": [
            "Collecting tf2onnx\n",
            "  Downloading tf2onnx-1.14.0-py3-none-any.whl (451 kB)\n",
            "\u001b[2K     \u001b[90m━━━━━━━━━━━━━━━━━━━━━━━━━━━━━━━━━━━━━━━\u001b[0m \u001b[32m451.2/451.2 kB\u001b[0m \u001b[31m4.0 MB/s\u001b[0m eta \u001b[36m0:00:00\u001b[0m\n",
            "\u001b[?25hCollecting onnx\n",
            "  Downloading onnx-1.14.0-cp310-cp310-manylinux_2_17_x86_64.manylinux2014_x86_64.whl (14.6 MB)\n",
            "\u001b[2K     \u001b[90m━━━━━━━━━━━━━━━━━━━━━━━━━━━━━━━━━━━━━━━━\u001b[0m \u001b[32m14.6/14.6 MB\u001b[0m \u001b[31m20.9 MB/s\u001b[0m eta \u001b[36m0:00:00\u001b[0m\n",
            "\u001b[?25hCollecting onnxruntime\n",
            "  Downloading onnxruntime-1.15.1-cp310-cp310-manylinux_2_17_x86_64.manylinux2014_x86_64.whl (5.9 MB)\n",
            "\u001b[2K     \u001b[90m━━━━━━━━━━━━━━━━━━━━━━━━━━━━━━━━━━━━━━━━\u001b[0m \u001b[32m5.9/5.9 MB\u001b[0m \u001b[31m53.3 MB/s\u001b[0m eta \u001b[36m0:00:00\u001b[0m\n",
            "\u001b[?25hRequirement already satisfied: numpy>=1.14.1 in /usr/local/lib/python3.10/dist-packages (from tf2onnx) (1.23.5)\n",
            "Requirement already satisfied: requests in /usr/local/lib/python3.10/dist-packages (from tf2onnx) (2.31.0)\n",
            "Requirement already satisfied: six in /usr/local/lib/python3.10/dist-packages (from tf2onnx) (1.16.0)\n",
            "Collecting flatbuffers<3.0,>=1.12 (from tf2onnx)\n",
            "  Downloading flatbuffers-2.0.7-py2.py3-none-any.whl (26 kB)\n",
            "Requirement already satisfied: protobuf>=3.20.2 in /usr/local/lib/python3.10/dist-packages (from onnx) (3.20.3)\n",
            "Requirement already satisfied: typing-extensions>=3.6.2.1 in /usr/local/lib/python3.10/dist-packages (from onnx) (4.7.1)\n",
            "Collecting coloredlogs (from onnxruntime)\n",
            "  Downloading coloredlogs-15.0.1-py2.py3-none-any.whl (46 kB)\n",
            "\u001b[2K     \u001b[90m━━━━━━━━━━━━━━━━━━━━━━━━━━━━━━━━━━━━━━━━\u001b[0m \u001b[32m46.0/46.0 kB\u001b[0m \u001b[31m1.8 MB/s\u001b[0m eta \u001b[36m0:00:00\u001b[0m\n",
            "\u001b[?25hRequirement already satisfied: packaging in /usr/local/lib/python3.10/dist-packages (from onnxruntime) (23.1)\n",
            "Requirement already satisfied: sympy in /usr/local/lib/python3.10/dist-packages (from onnxruntime) (1.11.1)\n",
            "Collecting humanfriendly>=9.1 (from coloredlogs->onnxruntime)\n",
            "  Downloading humanfriendly-10.0-py2.py3-none-any.whl (86 kB)\n",
            "\u001b[2K     \u001b[90m━━━━━━━━━━━━━━━━━━━━━━━━━━━━━━━━━━━━━━━━\u001b[0m \u001b[32m86.8/86.8 kB\u001b[0m \u001b[31m5.4 MB/s\u001b[0m eta \u001b[36m0:00:00\u001b[0m\n",
            "\u001b[?25hRequirement already satisfied: charset-normalizer<4,>=2 in /usr/local/lib/python3.10/dist-packages (from requests->tf2onnx) (3.2.0)\n",
            "Requirement already satisfied: idna<4,>=2.5 in /usr/local/lib/python3.10/dist-packages (from requests->tf2onnx) (3.4)\n",
            "Requirement already satisfied: urllib3<3,>=1.21.1 in /usr/local/lib/python3.10/dist-packages (from requests->tf2onnx) (1.26.16)\n",
            "Requirement already satisfied: certifi>=2017.4.17 in /usr/local/lib/python3.10/dist-packages (from requests->tf2onnx) (2023.7.22)\n",
            "Requirement already satisfied: mpmath>=0.19 in /usr/local/lib/python3.10/dist-packages (from sympy->onnxruntime) (1.3.0)\n",
            "Installing collected packages: flatbuffers, onnx, humanfriendly, tf2onnx, coloredlogs, onnxruntime\n",
            "  Attempting uninstall: flatbuffers\n",
            "    Found existing installation: flatbuffers 23.5.26\n",
            "    Uninstalling flatbuffers-23.5.26:\n",
            "      Successfully uninstalled flatbuffers-23.5.26\n",
            "Successfully installed coloredlogs-15.0.1 flatbuffers-2.0.7 humanfriendly-10.0 onnx-1.14.0 onnxruntime-1.15.1 tf2onnx-1.14.0\n"
          ]
        },
        {
          "output_type": "display_data",
          "data": {
            "application/vnd.colab-display-data+json": {
              "pip_warning": {
                "packages": [
                  "flatbuffers"
                ]
              }
            }
          },
          "metadata": {}
        }
      ]
    },
    {
      "cell_type": "code",
      "source": [
        "import tf2onnx\n",
        "import onnx\n",
        "import onnxruntime"
      ],
      "metadata": {
        "id": "xmKB0O6SrscS"
      },
      "execution_count": 10,
      "outputs": []
    },
    {
      "cell_type": "code",
      "source": [
        "# Convert Keras model to ONNX model\n",
        "onnx_model, _ = tf2onnx.convert.from_keras(model)\n",
        "\n",
        "# Save the ONNX model to a file\n",
        "onnx_model_path = 'your_model.onnx'\n",
        "with open(onnx_model_path, 'wb') as f:\n",
        "    f.write(onnx_model.SerializeToString())"
      ],
      "metadata": {
        "id": "5xrkQv0wpzJw"
      },
      "execution_count": 11,
      "outputs": []
    },
    {
      "cell_type": "code",
      "source": [
        "session = onnxruntime.InferenceSession('/content/your_model.onnx')\n",
        "session.get_inputs()[0].shape"
      ],
      "metadata": {
        "colab": {
          "base_uri": "https://localhost:8080/"
        },
        "id": "HOW-FbDfv35T",
        "outputId": "3efa64a5-93e4-41f7-e4e2-f3f834e46dbf"
      },
      "execution_count": 12,
      "outputs": [
        {
          "output_type": "execute_result",
          "data": {
            "text/plain": [
              "['unk__6', 2]"
            ]
          },
          "metadata": {},
          "execution_count": 12
        }
      ]
    },
    {
      "cell_type": "code",
      "source": [
        "input_name = session.get_inputs()[0].name\n",
        "output_name = session.get_outputs()[0].name\n",
        "res = session.run([output_name], {input_name:[[3,4]]})\n",
        "print(res)"
      ],
      "metadata": {
        "colab": {
          "base_uri": "https://localhost:8080/"
        },
        "id": "zavpwum9xgFh",
        "outputId": "3d789ac4-6ec6-4b17-cb18-cc03c9ca4f04"
      },
      "execution_count": 13,
      "outputs": [
        {
          "output_type": "stream",
          "name": "stdout",
          "text": [
            "[array([[188.]], dtype=float32)]\n"
          ]
        }
      ]
    },
    {
      "cell_type": "code",
      "source": [
        "def raw_data_to_float(raw_data, data_type, shape):\n",
        "    if data_type == onnx.TensorProto.FLOAT16:\n",
        "        # Convert from half-precision (float16) to float32\n",
        "        float_array = np.frombuffer(raw_data, dtype=np.float16)\n",
        "        float_array = float_array.astype(np.float32)\n",
        "    elif data_type == onnx.TensorProto.FLOAT:\n",
        "        float_array = np.frombuffer(raw_data, dtype=np.float32)\n",
        "    elif data_type == onnx.TensorProto.DOUBLE:\n",
        "        float_array = np.frombuffer(raw_data, dtype=np.float64)\n",
        "    else:\n",
        "        raise ValueError(f\"Unsupported data type: {data_type}\")\n",
        "\n",
        "    return float_array.reshape(shape)"
      ],
      "metadata": {
        "id": "bfXlpkQ18jrq"
      },
      "execution_count": 14,
      "outputs": []
    },
    {
      "cell_type": "code",
      "source": [
        "# Access the graph of the ONNX model\n",
        "graph = onnx_model.graph\n",
        "\n",
        "# Loop through initializers (weights and biases) in the graph\n",
        "for initializer in graph.initializer:\n",
        "    print(f\"Name: {initializer.name}\")\n",
        "    print(f\"Shape: {initializer.dims}\")\n",
        "    float_data = raw_data_to_float(initializer.raw_data, initializer.data_type, initializer.dims)\n",
        "    print(f\"Values: {float_data}\")  # or initializer.raw_data for bytes data\n",
        "    print(\"=\" * 40)"
      ],
      "metadata": {
        "colab": {
          "base_uri": "https://localhost:8080/"
        },
        "id": "nglR1UO7sND0",
        "outputId": "5ab23d58-279b-459c-ed03-243be2b83032"
      },
      "execution_count": 15,
      "outputs": [
        {
          "output_type": "stream",
          "name": "stdout",
          "text": [
            "Name: sequential/dense_1/MatMul/ReadVariableOp:0\n",
            "Shape: [3, 1]\n",
            "Values: [[3.]\n",
            " [3.]\n",
            " [3.]]\n",
            "========================================\n",
            "Name: sequential/dense_1/BiasAdd/ReadVariableOp:0\n",
            "Shape: [1]\n",
            "Values: [-1.]\n",
            "========================================\n",
            "Name: sequential/dense/MatMul/ReadVariableOp:0\n",
            "Shape: [2, 3]\n",
            "Values: [[1. 1. 1.]\n",
            " [2. 2. 2.]]\n",
            "========================================\n",
            "Name: sequential/dense/BiasAdd/ReadVariableOp:0\n",
            "Shape: [3]\n",
            "Values: [10. 10. 10.]\n",
            "========================================\n"
          ]
        }
      ]
    },
    {
      "cell_type": "code",
      "source": [
        "graph"
      ],
      "metadata": {
        "colab": {
          "base_uri": "https://localhost:8080/"
        },
        "id": "mQlZcIFkpzQh",
        "outputId": "78247ed0-4485-41cd-94aa-72af8ba234f2"
      },
      "execution_count": 16,
      "outputs": [
        {
          "output_type": "execute_result",
          "data": {
            "text/plain": [
              "node {\n",
              "  input: \"dense_input\"\n",
              "  input: \"sequential/dense/MatMul/ReadVariableOp:0\"\n",
              "  output: \"sequential/dense/MatMul:0\"\n",
              "  name: \"sequential/dense/MatMul\"\n",
              "  op_type: \"MatMul\"\n",
              "}\n",
              "node {\n",
              "  input: \"sequential/dense/MatMul:0\"\n",
              "  input: \"sequential/dense/BiasAdd/ReadVariableOp:0\"\n",
              "  output: \"sequential/dense/BiasAdd:0\"\n",
              "  name: \"sequential/dense/BiasAdd\"\n",
              "  op_type: \"Add\"\n",
              "}\n",
              "node {\n",
              "  input: \"sequential/dense/BiasAdd:0\"\n",
              "  output: \"sequential/dense/Relu:0\"\n",
              "  name: \"sequential/dense/Relu\"\n",
              "  op_type: \"Relu\"\n",
              "}\n",
              "node {\n",
              "  input: \"sequential/dense/Relu:0\"\n",
              "  input: \"sequential/dense_1/MatMul/ReadVariableOp:0\"\n",
              "  output: \"sequential/dense_1/MatMul:0\"\n",
              "  name: \"sequential/dense_1/MatMul\"\n",
              "  op_type: \"MatMul\"\n",
              "}\n",
              "node {\n",
              "  input: \"sequential/dense_1/MatMul:0\"\n",
              "  input: \"sequential/dense_1/BiasAdd/ReadVariableOp:0\"\n",
              "  output: \"dense_1\"\n",
              "  name: \"sequential/dense_1/BiasAdd\"\n",
              "  op_type: \"Add\"\n",
              "}\n",
              "name: \"tf2onnx\"\n",
              "initializer {\n",
              "  dims: 3\n",
              "  dims: 1\n",
              "  data_type: 1\n",
              "  name: \"sequential/dense_1/MatMul/ReadVariableOp:0\"\n",
              "  raw_data: \"\\000\\000@@\\000\\000@@\\000\\000@@\"\n",
              "}\n",
              "initializer {\n",
              "  dims: 1\n",
              "  data_type: 1\n",
              "  name: \"sequential/dense_1/BiasAdd/ReadVariableOp:0\"\n",
              "  raw_data: \"\\000\\000\\200\\277\"\n",
              "}\n",
              "initializer {\n",
              "  dims: 2\n",
              "  dims: 3\n",
              "  data_type: 1\n",
              "  name: \"sequential/dense/MatMul/ReadVariableOp:0\"\n",
              "  raw_data: \"\\000\\000\\200?\\000\\000\\200?\\000\\000\\200?\\000\\000\\000@\\000\\000\\000@\\000\\000\\000@\"\n",
              "}\n",
              "initializer {\n",
              "  dims: 3\n",
              "  data_type: 1\n",
              "  name: \"sequential/dense/BiasAdd/ReadVariableOp:0\"\n",
              "  raw_data: \"\\000\\000 A\\000\\000 A\\000\\000 A\"\n",
              "}\n",
              "doc_string: \"converted from sequential\"\n",
              "input {\n",
              "  name: \"dense_input\"\n",
              "  type {\n",
              "    tensor_type {\n",
              "      elem_type: 1\n",
              "      shape {\n",
              "        dim {\n",
              "          dim_param: \"unk__6\"\n",
              "        }\n",
              "        dim {\n",
              "          dim_value: 2\n",
              "        }\n",
              "      }\n",
              "    }\n",
              "  }\n",
              "}\n",
              "output {\n",
              "  name: \"dense_1\"\n",
              "  type {\n",
              "    tensor_type {\n",
              "      elem_type: 1\n",
              "      shape {\n",
              "        dim {\n",
              "          dim_param: \"unk__7\"\n",
              "        }\n",
              "        dim {\n",
              "          dim_value: 1\n",
              "        }\n",
              "      }\n",
              "    }\n",
              "  }\n",
              "}"
            ]
          },
          "metadata": {},
          "execution_count": 16
        }
      ]
    }
  ]
}